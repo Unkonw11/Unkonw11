{
 "cells": [
  {
   "cell_type": "markdown",
   "metadata": {
    "id": "QUANWN3rpfC9"
   },
   "source": [
    "# 0. Setup Paths"
   ]
  },
  {
   "cell_type": "code",
   "execution_count": 1,
   "metadata": {
    "id": "146BB11JpfDA"
   },
   "outputs": [],
   "source": [
    "import os"
   ]
  },
  {
   "cell_type": "code",
   "execution_count": 2,
   "metadata": {
    "id": "42hJEdo_pfDB"
   },
   "outputs": [],
   "source": [
    "CUSTOM_MODEL_NAME = 'Final_Module-3' \n",
    "PRETRAINED_MODEL_NAME = 'ssd_mobilenet_v2_fpnlite_320x320_coco17_tpu-8'\n",
    "PRETRAINED_MODEL_URL = 'http://download.tensorflow.org/models/object_detection/tf2/20200711/ssd_mobilenet_v2_fpnlite_320x320_coco17_tpu-8.tar.gz'\n",
    "TF_RECORD_SCRIPT_NAME = 'generate_tfrecord.py'\n",
    "LABEL_MAP_NAME = 'label_map.pbtxt'"
   ]
  },
  {
   "cell_type": "code",
   "execution_count": 3,
   "metadata": {
    "id": "hbPhYVy_pfDB"
   },
   "outputs": [],
   "source": [
    "paths = {\n",
    "    'WORKSPACE_PATH': os.path.join('Tensorflow', 'workspace'),\n",
    "    'SCRIPTS_PATH': os.path.join('Tensorflow','scripts'),\n",
    "    'APIMODEL_PATH': os.path.join('Tensorflow','models'),\n",
    "    'ANNOTATION_PATH': os.path.join('Tensorflow', 'workspace','annotations'),\n",
    "    'IMAGE_PATH': os.path.join('Tensorflow', 'workspace','images'),\n",
    "    'MODEL_PATH': os.path.join('Tensorflow', 'workspace','models'),\n",
    "    'PRETRAINED_MODEL_PATH': os.path.join('Tensorflow', 'workspace','pre-trained-models'),\n",
    "    'CHECKPOINT_PATH': os.path.join('Tensorflow', 'workspace','models',CUSTOM_MODEL_NAME), \n",
    "    'OUTPUT_PATH': os.path.join('Tensorflow', 'workspace','models',CUSTOM_MODEL_NAME, 'export'), \n",
    "    'TFJS_PATH':os.path.join('Tensorflow', 'workspace','models',CUSTOM_MODEL_NAME, 'tfjsexport'), \n",
    "    'TFLITE_PATH':os.path.join('Tensorflow', 'workspace','models',CUSTOM_MODEL_NAME, 'tfliteexport'), \n",
    "    'PROTOC_PATH':os.path.join('Tensorflow','protoc')\n",
    " }"
   ]
  },
  {
   "cell_type": "code",
   "execution_count": 4,
   "metadata": {
    "id": "LwhWZMI0pfDC"
   },
   "outputs": [],
   "source": [
    "files = {\n",
    "    'PIPELINE_CONFIG':os.path.join('Tensorflow', 'workspace','models', CUSTOM_MODEL_NAME, 'pipeline.config'),\n",
    "    'TF_RECORD_SCRIPT': os.path.join(paths['SCRIPTS_PATH'], TF_RECORD_SCRIPT_NAME), \n",
    "    'LABELMAP': os.path.join(paths['ANNOTATION_PATH'], LABEL_MAP_NAME)\n",
    "}"
   ]
  },
  {
   "cell_type": "code",
   "execution_count": 5,
   "metadata": {
    "id": "HR-TfDGrpfDC"
   },
   "outputs": [],
   "source": [
    "for path in paths.values():\n",
    "    if not os.path.exists(path):\n",
    "        if os.name == 'posix':\n",
    "            !mkdir -p {path}\n",
    "        if os.name == 'nt':\n",
    "            !mkdir {path}"
   ]
  },
  {
   "cell_type": "markdown",
   "metadata": {
    "id": "M5KJTnkfpfDC"
   },
   "source": [
    "# 2. Create Label Map"
   ]
  },
  {
   "cell_type": "code",
   "execution_count": 6,
   "metadata": {
    "id": "p1BVDWo7pfDC"
   },
   "outputs": [],
   "source": [
    "labels = [{'name':'thumbsup', 'id':1}, {'name':'thumbsdown', 'id':2},{'name':'Ali', 'id':3},{'name':'LightUp', 'id':4},{'name':'LightDown', 'id':5}]\n",
    "with open(files['LABELMAP'], 'w') as f:\n",
    "    for label in labels:\n",
    "        f.write('item { \\n')\n",
    "        f.write('\\tname:\\'{}\\'\\n'.format(label['name']))\n",
    "        f.write('\\tid:{}\\n'.format(label['id']))\n",
    "        f.write('}\\n')"
   ]
  },
  {
   "cell_type": "markdown",
   "metadata": {
    "id": "orvRk02UpfDI"
   },
   "source": [
    "# 8. Load Train Model From Checkpoint"
   ]
  },
  {
   "cell_type": "code",
   "execution_count": 7,
   "metadata": {
    "id": "8TYk4_oIpfDI"
   },
   "outputs": [],
   "source": [
    "import os\n",
    "import tensorflow as tf\n",
    "from object_detection.utils import label_map_util\n",
    "from object_detection.utils import visualization_utils as viz_utils\n",
    "from object_detection.builders import model_builder\n",
    "from object_detection.utils import config_util"
   ]
  },
  {
   "cell_type": "code",
   "execution_count": 8,
   "metadata": {
    "id": "tDnQg-cYpfDI"
   },
   "outputs": [],
   "source": [
    "# Load pipeline config and build a detection model\n",
    "configs = config_util.get_configs_from_pipeline_file(files['PIPELINE_CONFIG'])\n",
    "detection_model = model_builder.build(model_config=configs['model'], is_training=False)\n",
    "\n",
    "# Restore checkpoint\n",
    "ckpt = tf.compat.v2.train.Checkpoint(model=detection_model)\n",
    "ckpt.restore(os.path.join(paths['CHECKPOINT_PATH'], 'ckpt-4')).expect_partial()\n",
    "\n",
    "@tf.function\n",
    "def detect_fn(image):\n",
    "    image, shapes = detection_model.preprocess(image)\n",
    "    prediction_dict = detection_model.predict(image, shapes)\n",
    "    detections = detection_model.postprocess(prediction_dict, shapes)\n",
    "    return detections"
   ]
  },
  {
   "cell_type": "code",
   "execution_count": 9,
   "metadata": {
    "id": "Y_MKiuZ4pfDI"
   },
   "outputs": [],
   "source": [
    "\n",
    "import cv2 \n",
    "import numpy as np\n",
    "from matplotlib import pyplot as plt\n",
    "%matplotlib inline"
   ]
  },
  {
   "cell_type": "code",
   "execution_count": 10,
   "metadata": {
    "id": "cBDbIhNapfDI"
   },
   "outputs": [],
   "source": [
    "category_index = label_map_util.create_category_index_from_labelmap(files['LABELMAP'])"
   ]
  },
  {
   "cell_type": "code",
   "execution_count": 11,
   "metadata": {},
   "outputs": [
    {
     "name": "stdout",
     "output_type": "stream",
     "text": [
      "Connected to COM5\n",
      "DONE\n"
     ]
    }
   ],
   "source": [
    "import serial.tools.list_ports\n",
    "\n",
    "def get_ports():\n",
    "\n",
    "    ports = serial.tools.list_ports.comports()\n",
    "    \n",
    "    return ports\n",
    "\n",
    "def findArduino(portsFound):\n",
    "    \n",
    "    commPort = 'None'\n",
    "    numConnection = len(portsFound)\n",
    "    \n",
    "    for i in range(0,numConnection):\n",
    "        port = foundPorts[i]\n",
    "        strPort = str(port)\n",
    "        \n",
    "        if 'USB' in strPort: \n",
    "            splitPort = strPort.split(' ')\n",
    "            commPort = (splitPort[0])\n",
    "\n",
    "    return commPort\n",
    "            \n",
    "                    \n",
    "foundPorts = get_ports()        \n",
    "connectPort = findArduino(foundPorts)\n",
    "\n",
    "if connectPort != 'None':\n",
    "    ser = serial.Serial(connectPort,baudrate = 9600, timeout=1)\n",
    "    print('Connected to ' + connectPort)\n",
    "\n",
    "else:\n",
    "    print('Connection Issue!')\n",
    "\n",
    "print('DONE')"
   ]
  },
  {
   "cell_type": "code",
   "execution_count": null,
   "metadata": {},
   "outputs": [],
   "source": [
    "import socket\n",
    "import threading\n",
    "import sys\n",
    "import time\n",
    "\n",
    "class Server :\n",
    "    sock = socket.socket(socket.AF_INET,socket.SOCK_STREAM)\n",
    "    connections = []\n",
    "    def __init__(self):\n",
    "        self.sock.bind(('0.0.0.0',10000))\n",
    "        self.sock.listen(1)\n",
    "    def handler(self,c,a):\n",
    "        while True:\n",
    "            data = c.recv(1024)\n",
    "            for connection in self.connections:\n",
    "                connection.send(data)\n",
    "            if not data:\n",
    "                self.connections.remove(c)\n",
    "                c.close()\n",
    "                break\n",
    "    def run(self):\n",
    "        while True:\n",
    "            c, a =self.sock.accept()\n",
    "            cThread = threading.Thread(target=self.handler,args=(c, a))\n",
    "            cThread.daemon = True\n",
    "            cThread.start()\n",
    "            self.connections.append(c)\n",
    "            print(self.connections)\n",
    "class Client():\n",
    "    \n",
    "    sock = socket.socket(socket.AF_INET, socket.SOCK_STREAM)\n",
    "    def getdMsg(self):\n",
    "          while True:\n",
    "                data = self.sock.recv(1024)\n",
    "                if not data:\n",
    "                    break\n",
    "        \n",
    "       \n",
    "    def __init__(self,address):\n",
    "        address =\"192.168.1.105\"\n",
    "        self.sock.connect((address,8888))\n",
    "        \n",
    "        iThread = threading.Thread(target=self.getMsg)\n",
    "        iThread.daemon = True\n",
    "        iThread.start()\n",
    "\n",
    "\n",
    "        cap = cv2.VideoCapture(0)\n",
    "        width = int(cap.get(cv2.CAP_PROP_FRAME_WIDTH))\n",
    "        height = int(cap.get(cv2.CAP_PROP_FRAME_HEIGHT))\n",
    "        y = 0\n",
    "\n",
    "        while cap.isOpened():\n",
    "            ret, frame = cap.read()\n",
    "            frame = cv2.flip(frame, 1)\n",
    "            image_np = np.array(frame)\n",
    "\n",
    "            input_tensor = tf.convert_to_tensor(np.expand_dims(image_np, 0), dtype=tf.float32)\n",
    "            detections = detect_fn(input_tensor)\n",
    "\n",
    "            num_detections = int(detections.pop('num_detections'))\n",
    "            detections = {key: value[0, :num_detections].numpy()\n",
    "                          for key, value in detections.items()}\n",
    "            detections['num_detections'] = num_detections\n",
    "            # detection_classes should be ints.\n",
    "            detections['detection_classes'] = detections['detection_classes'].astype(np.int64)\n",
    "\n",
    "            label_id_offset = 1\n",
    "            image_np_with_detections = image_np.copy()\n",
    "\n",
    "            label, _ = viz_utils.visualize_boxes_and_labels_on_image_array(\n",
    "                image_np_with_detections,\n",
    "                detections['detection_boxes'],\n",
    "                detections['detection_classes'] + label_id_offset,\n",
    "                detections['detection_scores'],\n",
    "                category_index,\n",
    "                use_normalized_coordinates=True,\n",
    "                max_boxes_to_draw=5,\n",
    "                min_score_thresh=.8,\n",
    "                agnostic_mode=False)\n",
    "            \n",
    "            Mem = label.split(\":\")\n",
    "            \n",
    "            \n",
    "            if Mem[0] == 'Ali':\n",
    "                y = 1\n",
    "            elif Mem[0] == '':\n",
    "                y = 0\n",
    "            else:\n",
    "                pass\n",
    "            if y == 1:\n",
    "                if Mem[0] == 'thumbsup':\n",
    "                    ser.write(b'1')\n",
    "                if Mem[0] == 'thumbsdown':\n",
    "                    ser.write(b'2')\n",
    "                if Mem[0] == 'LightUp':\n",
    "                    ser.write(b'3')\n",
    "                if Mem[0] == 'LightDown':\n",
    "                    ser.write(b'4')\n",
    "            else:\n",
    "                cv2.putText(image_np_with_detections, 'Yetkisiz Giris', (250, 450), cv2.FONT_HERSHEY_SIMPLEX, 1,\n",
    "                            (0, 0, 0), 2)\n",
    "            cv2.imshow('object detection', cv2.resize(image_np_with_detections, (800, 600)))\n",
    "\n",
    "            if cv2.waitKey(10) & 0xFF == ord('q'):\n",
    "                cap.release()\n",
    "                cv2.destroyAllWindows()\n",
    "                break\n",
    "\n",
    "if(len(sys.argv)>1):\n",
    "    client =Client(sys.argv[1])\n",
    "else:\n",
    "    server = Server()\n",
    "    server.run()"
   ]
  },
  {
   "cell_type": "code",
   "execution_count": 12,
   "metadata": {},
   "outputs": [
    {
     "name": "stdout",
     "output_type": "stream",
     "text": [
      "b'LightUp'\n",
      "b'LightUp'\n",
      "b'LightUp'\n",
      "b'LightUp'\n",
      "b'LightUp'\n",
      "b'LightUp'\n",
      "b'LightDown'\n",
      "b'LightDown'\n",
      "b'LightDown'\n",
      "b'LightDown'\n",
      "b'LightDown'\n",
      "b'LightDown'\n",
      "b'Channelup'\n",
      "b'Channelup'\n",
      "b'Channelup'\n",
      "b'Channelup'\n",
      "b'ChannelDown'\n",
      "b'ChannelDown'\n",
      "b'ChannelDown'\n"
     ]
    },
    {
     "ename": "ConnectionResetError",
     "evalue": "[WinError 10054] Varolan bir bağlantı uzaktaki bir ana bilgisayar tarafından zorla kapatıldı",
     "output_type": "error",
     "traceback": [
      "\u001b[1;31m---------------------------------------------------------------------------\u001b[0m",
      "\u001b[1;31mConnectionResetError\u001b[0m                      Traceback (most recent call last)",
      "\u001b[1;32m~\\AppData\\Local\\Temp/ipykernel_25092/219127462.py\u001b[0m in \u001b[0;36m<module>\u001b[1;34m\u001b[0m\n\u001b[0;32m    113\u001b[0m             \u001b[0mprint\u001b[0m\u001b[1;33m(\u001b[0m\u001b[0mdata\u001b[0m\u001b[1;33m)\u001b[0m\u001b[1;33m\u001b[0m\u001b[1;33m\u001b[0m\u001b[0m\n\u001b[0;32m    114\u001b[0m \u001b[1;32mif\u001b[0m\u001b[1;33m(\u001b[0m\u001b[0mlen\u001b[0m\u001b[1;33m(\u001b[0m\u001b[0msys\u001b[0m\u001b[1;33m.\u001b[0m\u001b[0margv\u001b[0m\u001b[1;33m)\u001b[0m\u001b[1;33m>\u001b[0m\u001b[1;36m1\u001b[0m\u001b[1;33m)\u001b[0m\u001b[1;33m:\u001b[0m\u001b[1;33m\u001b[0m\u001b[1;33m\u001b[0m\u001b[0m\n\u001b[1;32m--> 115\u001b[1;33m     \u001b[0mclient\u001b[0m \u001b[1;33m=\u001b[0m\u001b[0mClient\u001b[0m\u001b[1;33m(\u001b[0m\u001b[0msys\u001b[0m\u001b[1;33m.\u001b[0m\u001b[0margv\u001b[0m\u001b[1;33m[\u001b[0m\u001b[1;36m1\u001b[0m\u001b[1;33m]\u001b[0m\u001b[1;33m)\u001b[0m\u001b[1;33m\u001b[0m\u001b[1;33m\u001b[0m\u001b[0m\n\u001b[0m\u001b[0;32m    116\u001b[0m \u001b[1;32melse\u001b[0m\u001b[1;33m:\u001b[0m\u001b[1;33m\u001b[0m\u001b[1;33m\u001b[0m\u001b[0m\n\u001b[0;32m    117\u001b[0m     \u001b[0mserver\u001b[0m \u001b[1;33m=\u001b[0m \u001b[0mServer\u001b[0m\u001b[1;33m(\u001b[0m\u001b[1;33m)\u001b[0m\u001b[1;33m\u001b[0m\u001b[1;33m\u001b[0m\u001b[0m\n",
      "\u001b[1;32m~\\AppData\\Local\\Temp/ipykernel_25092/219127462.py\u001b[0m in \u001b[0;36m__init__\u001b[1;34m(self, address)\u001b[0m\n\u001b[0;32m    100\u001b[0m \u001b[1;33m\u001b[0m\u001b[0m\n\u001b[0;32m    101\u001b[0m         \u001b[1;32mwhile\u001b[0m \u001b[1;32mTrue\u001b[0m\u001b[1;33m:\u001b[0m\u001b[1;33m\u001b[0m\u001b[1;33m\u001b[0m\u001b[0m\n\u001b[1;32m--> 102\u001b[1;33m             \u001b[0mdata\u001b[0m \u001b[1;33m=\u001b[0m \u001b[0mself\u001b[0m\u001b[1;33m.\u001b[0m\u001b[0msock\u001b[0m\u001b[1;33m.\u001b[0m\u001b[0mrecv\u001b[0m\u001b[1;33m(\u001b[0m\u001b[1;36m1024\u001b[0m\u001b[1;33m)\u001b[0m\u001b[1;33m\u001b[0m\u001b[1;33m\u001b[0m\u001b[0m\n\u001b[0m\u001b[0;32m    103\u001b[0m             \u001b[1;32mif\u001b[0m \u001b[0mdata\u001b[0m \u001b[1;33m==\u001b[0m \u001b[1;34mb'Channelup'\u001b[0m\u001b[1;33m:\u001b[0m\u001b[1;33m\u001b[0m\u001b[1;33m\u001b[0m\u001b[0m\n\u001b[0;32m    104\u001b[0m                 \u001b[0mser\u001b[0m\u001b[1;33m.\u001b[0m\u001b[0mwrite\u001b[0m\u001b[1;33m(\u001b[0m\u001b[1;34mb'1'\u001b[0m\u001b[1;33m)\u001b[0m\u001b[1;33m\u001b[0m\u001b[1;33m\u001b[0m\u001b[0m\n",
      "\u001b[1;31mConnectionResetError\u001b[0m: [WinError 10054] Varolan bir bağlantı uzaktaki bir ana bilgisayar tarafından zorla kapatıldı"
     ]
    }
   ],
   "source": [
    "import socket\n",
    "import threading\n",
    "import sys\n",
    "\n",
    "class Server :\n",
    "    sock = socket.socket(socket.AF_INET,socket.SOCK_STREAM)\n",
    "    connections = []\n",
    "    def __init__(self):\n",
    "        self.sock.bind(('192.168.1.105',8888))\n",
    "        self.sock.listen(1)\n",
    "    def handler(self,c,a):\n",
    "        while True:\n",
    "            data = c.recv(1024)\n",
    "            for connection in self.connections:\n",
    "                connection.send(data)\n",
    "            if not data:\n",
    "                self.connections.remove(c)\n",
    "                c.close()\n",
    "                break\n",
    "    def run(self):\n",
    "        while True:\n",
    "            c, a =self.sock.accept()\n",
    "            cThread = threading.Thread(target=self.handler,args=(c, a))\n",
    "            cThread.daemon = True\n",
    "            cThread.start()\n",
    "            self.connections.append(c)\n",
    "            print(self.connections)\n",
    "class Client():\n",
    "    sock = socket.socket(socket.AF_INET, socket.SOCK_STREAM)\n",
    "    def sendMsg(self):\n",
    "        cap = cv2.VideoCapture(0)\n",
    "        width = int(cap.get(cv2.CAP_PROP_FRAME_WIDTH))\n",
    "        height = int(cap.get(cv2.CAP_PROP_FRAME_HEIGHT))\n",
    "        y = 0\n",
    "\n",
    "        while cap.isOpened():\n",
    "            ret, frame = cap.read()\n",
    "            frame = cv2.flip(frame, 1)\n",
    "            image_np = np.array(frame)\n",
    "\n",
    "            input_tensor = tf.convert_to_tensor(np.expand_dims(image_np, 0), dtype=tf.float32)\n",
    "            detections = detect_fn(input_tensor)\n",
    "\n",
    "            num_detections = int(detections.pop('num_detections'))\n",
    "            detections = {key: value[0, :num_detections].numpy()\n",
    "                          for key, value in detections.items()}\n",
    "            detections['num_detections'] = num_detections\n",
    "            # detection_classes should be ints.\n",
    "            detections['detection_classes'] = detections['detection_classes'].astype(np.int64)\n",
    "\n",
    "            label_id_offset = 1\n",
    "            image_np_with_detections = image_np.copy()\n",
    "\n",
    "            label, _ = viz_utils.visualize_boxes_and_labels_on_image_array(\n",
    "                image_np_with_detections,\n",
    "                detections['detection_boxes'],\n",
    "                detections['detection_classes'] + label_id_offset,\n",
    "                detections['detection_scores'],\n",
    "                category_index,\n",
    "                use_normalized_coordinates=True,\n",
    "                max_boxes_to_draw=5,\n",
    "                min_score_thresh=.8,\n",
    "                agnostic_mode=False)\n",
    "            \n",
    "            Mem = label.split(\":\")\n",
    "            \n",
    "            \n",
    "            if Mem[0] == 'Ali':\n",
    "                y = 1\n",
    "            elif Mem[0] == '':\n",
    "                y = 0\n",
    "            else:\n",
    "                pass\n",
    "            if y == 1:\n",
    "                if Mem[0] == 'thumbsup':\n",
    "                    ser.write(b'1')\n",
    "                if Mem[0] == 'thumbsdown':\n",
    "                    ser.write(b'2')\n",
    "                if Mem[0] == 'LightUp':\n",
    "                    ser.write(b'3')\n",
    "                if Mem[0] == 'LightDown':\n",
    "                    ser.write(b'4')\n",
    "            else:\n",
    "                cv2.putText(image_np_with_detections, 'Yetkisiz Giris', (250, 450), cv2.FONT_HERSHEY_SIMPLEX, 1,\n",
    "                            (0, 0, 0), 2)\n",
    "            cv2.imshow('object detection', cv2.resize(image_np_with_detections, (800, 600)))\n",
    "\n",
    "            if cv2.waitKey(10) & 0xFF == ord('q'):\n",
    "                cap.release()\n",
    "                cv2.destroyAllWindows()\n",
    "                break\n",
    "\n",
    "    def __init__(self,address):\n",
    "        address =\"192.168.1.105\"\n",
    "        self.sock.connect((address,8888))\n",
    "\n",
    "        iThread = threading.Thread(target=self.sendMsg)\n",
    "        iThread.daemon = True\n",
    "        iThread.start()\n",
    "\n",
    "        while True:\n",
    "            data = self.sock.recv(1024)\n",
    "            if data == b'Channelup':\n",
    "                ser.write(b'1')\n",
    "            if data == b'ChannelDown':\n",
    "                ser.write(b'2')\n",
    "            if data == b'LightUp':\n",
    "                ser.write(b'3')\n",
    "            if data == b'LightDown':\n",
    "                ser.write(b'4')    \n",
    "            if not data :\n",
    "                break\n",
    "            print(data)\n",
    "if(len(sys.argv)>1):\n",
    "    client =Client(sys.argv[1])\n",
    "else:\n",
    "    server = Server()\n",
    "    server.run()\n",
    "\n"
   ]
  },
  {
   "cell_type": "code",
   "execution_count": null,
   "metadata": {
    "id": "o_grs6OGpfDJ",
    "scrolled": true
   },
   "outputs": [],
   "source": [
    "cap = cv2.VideoCapture(0)\n",
    "width = int(cap.get(cv2.CAP_PROP_FRAME_WIDTH))\n",
    "height = int(cap.get(cv2.CAP_PROP_FRAME_HEIGHT))\n",
    "y = 0\n",
    "\n",
    "while cap.isOpened(): \n",
    "    ret, frame = cap.read()\n",
    "    frame= cv2.flip(frame,1)\n",
    "    image_np = np.array(frame)\n",
    "    \n",
    "    input_tensor = tf.convert_to_tensor(np.expand_dims(image_np, 0), dtype=tf.float32)\n",
    "    detections = detect_fn(input_tensor)\n",
    "    \n",
    "    num_detections = int(detections.pop('num_detections'))\n",
    "    detections = {key: value[0, :num_detections].numpy()\n",
    "                  for key, value in detections.items()}\n",
    "    detections['num_detections'] = num_detections\n",
    "\n",
    "    # detection_classes should be ints.\n",
    "    detections['detection_classes'] = detections['detection_classes'].astype(np.int64)\n",
    "\n",
    "    label_id_offset = 1\n",
    "    image_np_with_detections = image_np.copy()\n",
    "\n",
    "    label,_=viz_utils.visualize_boxes_and_labels_on_image_array(\n",
    "                image_np_with_detections,\n",
    "                detections['detection_boxes'],\n",
    "                detections['detection_classes']+label_id_offset,\n",
    "                detections['detection_scores'],\n",
    "                category_index,\n",
    "                use_normalized_coordinates=True,\n",
    "                max_boxes_to_draw=5,\n",
    "                min_score_thresh=.8,\n",
    "                agnostic_mode=False)\n",
    "    \n",
    "    x = label.split(\":\")\n",
    "    print(x)\n",
    "    if x[0]=='Ali':\n",
    "        y=1\n",
    "    elif x[0]=='':\n",
    "        y=0\n",
    "    else:\n",
    "        pass\n",
    "    if y==1:\n",
    "        if x[0]=='thumbsup':\n",
    "            ser.write(b'1')\n",
    "        if x[0]=='thumbsdown':\n",
    "            ser.write(b'2')\n",
    "        if x[0]=='LightUp':\n",
    "            ser.write(b'3')\n",
    "        if x[0]=='LightDown':\n",
    "            ser.write(b'4')\n",
    "    else:\n",
    "        cv2.putText(image_np_with_detections,'Yetkisiz Giris',(250,450),cv2.FONT_HERSHEY_SIMPLEX,1,(0,0,0),2)   \n",
    "    cv2.imshow('object detection',  cv2.resize(image_np_with_detections, (800, 600)))\n",
    "    \n",
    "    \n",
    "    \n",
    "    if cv2.waitKey(10) & 0xFF == ord('q'):\n",
    "        cap.release()\n",
    "        cv2.destroyAllWindows()\n",
    "        break\n"
   ]
  },
  {
   "cell_type": "code",
   "execution_count": null,
   "metadata": {},
   "outputs": [],
   "source": []
  }
 ],
 "metadata": {
  "accelerator": "GPU",
  "colab": {
   "name": "3. Training and Detection.ipynb",
   "provenance": []
  },
  "kernelspec": {
   "display_name": "tfod",
   "language": "python",
   "name": "tfod"
  },
  "language_info": {
   "codemirror_mode": {
    "name": "ipython",
    "version": 3
   },
   "file_extension": ".py",
   "mimetype": "text/x-python",
   "name": "python",
   "nbconvert_exporter": "python",
   "pygments_lexer": "ipython3",
   "version": "3.8.8"
  }
 },
 "nbformat": 4,
 "nbformat_minor": 1
}
